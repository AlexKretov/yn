{
 "cells": [
  {
   "cell_type": "code",
   "execution_count": 1,
   "metadata": {},
   "outputs": [],
   "source": [
    "import os\n",
    "import psycopg\n",
    "import pandas as pd"
   ]
  },
  {
   "cell_type": "code",
   "execution_count": 2,
   "metadata": {},
   "outputs": [],
   "source": [
    "postgres_credentials = {'dbname': os.getenv(\"DB_DESTINATION_NAME\"),\n",
    "                            'host': os.getenv(\"DB_DESTINATION_HOST\"),\n",
    "                           'password': os.getenv(\"DB_DESTINATION_PASSWORD\"),\n",
    "                           'port': os.getenv(\"DB_DESTINATION_PORT\"),\n",
    "                           'user': os.getenv(\"DB_DESTINATION_USER\")}"
   ]
  },
  {
   "cell_type": "code",
   "execution_count": 3,
   "metadata": {},
   "outputs": [],
   "source": [
    "connection = {\"sslmode\": \"require\", \"target_session_attrs\": \"read-write\"}\n",
    "assert all([var_value != \"\" for var_value in list(postgres_credentials.values())])\n",
    "connection.update(postgres_credentials)\n",
    "\n",
    "    # определим название таблицы, в которой хранятся наши данные.\n",
    "TABLE_NAME = \"flat_dataset\"\n",
    "\n",
    "    # эта конструкция создаёт контекстное управление для соединения с базой данных \n",
    "    # оператор with гарантирует, что соединение будет корректно закрыто после выполнения всех операций \n",
    "    # закрыто оно будет даже в случае ошибки, чтобы не допустить \"утечку памяти\"\n",
    "with psycopg.connect(**connection) as conn:\n",
    "\n",
    "        # создаёт объект курсора для выполнения запросов к базе данных\n",
    "        # с помощью метода execute() выполняется SQL-запрос для выборки данных из таблицы TABLE_NAME\n",
    "    with conn.cursor() as cur:\n",
    "        cur.execute(f\"SELECT *  FROM {TABLE_NAME}\")     \n",
    "        # извлекаем все строки, полученные в результате выполнения запроса\n",
    "        data = cur.fetchall()\n",
    "        # получает список имён столбцов из объекта курсора\n",
    "        columns = [col[0] for col in cur.description]\n",
    "\n",
    "    # создаёт объект DataFrame из полученных данных и имён столбцов. \n",
    "    # это позволяет удобно работать с данными в Python, используя библиотеку Pandas.\n",
    "df = pd.DataFrame(data, columns=columns) "
   ]
  }
 ],
 "metadata": {
  "kernelspec": {
   "display_name": ".venv",
   "language": "python",
   "name": "python3"
  },
  "language_info": {
   "codemirror_mode": {
    "name": "ipython",
    "version": 3
   },
   "file_extension": ".py",
   "mimetype": "text/x-python",
   "name": "python",
   "nbconvert_exporter": "python",
   "pygments_lexer": "ipython3",
   "version": "3.10.12"
  }
 },
 "nbformat": 4,
 "nbformat_minor": 2
}
