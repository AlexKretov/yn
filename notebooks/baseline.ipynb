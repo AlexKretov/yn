{
 "cells": [
  {
   "cell_type": "code",
   "execution_count": 1,
   "metadata": {},
   "outputs": [
    {
     "name": "stderr",
     "output_type": "stream",
     "text": [
      "/home/mle-user/mle_projects/.venv/lib/python3.10/site-packages/pydantic/_internal/_fields.py:149: UserWarning: Field \"model_server_url\" has conflict with protected namespace \"model_\".\n",
      "\n",
      "You may be able to resolve this warning by setting `model_config['protected_namespaces'] = ()`.\n",
      "  warnings.warn(\n",
      "/home/mle-user/mle_projects/.venv/lib/python3.10/site-packages/pydantic/_internal/_config.py:321: UserWarning: Valid config keys have changed in V2:\n",
      "* 'schema_extra' has been renamed to 'json_schema_extra'\n",
      "  warnings.warn(message, UserWarning)\n"
     ]
    }
   ],
   "source": [
    "import os\n",
    "import psycopg\n",
    "import pandas as pd\n",
    "from catboost import CatBoostRegressor\n",
    "import joblib\n",
    "import json\n",
    "from sklearn.model_selection import KFold, cross_validate\n",
    "import mlflow\n",
    "import yaml\n",
    "from mlflow.client import MlflowClient"
   ]
  },
  {
   "cell_type": "code",
   "execution_count": 2,
   "metadata": {},
   "outputs": [],
   "source": [
    "\n",
    "os.environ[\"MLFLOW_S3_ENDPOINT_URL\"] = \"https://storage.yandexcloud.net\" #endpoint бакета от YandexCloud\n",
    "os.environ[\"AWS_ACCESS_KEY_ID\"] = os.getenv(\"AWS_ACCESS_KEY_ID\") # получаем id ключа бакета, к которому подключён MLFlow, из .env\n",
    "os.environ[\"AWS_SECRET_ACCESS_KEY\"] = os.getenv(\"AWS_SECRET_ACCESS_KEY\") # получаем ключ бакета, к которому подключён MLFlow, из .env\n",
    "\n",
    "TRACKING_SERVER_HOST = \"127.0.0.1\"\n",
    "TRACKING_SERVER_PORT = 5000\n",
    "\n",
    "EXPERIMENT_NAME = 'catboost_legacy2'\n",
    "RUN_NAME = \"baseline+data\"\n",
    "REGISTRY_MODEL_NAME = 'baseline'\n",
    "FS_ASSETS = \"baseline\"  "
   ]
  },
  {
   "cell_type": "code",
   "execution_count": 3,
   "metadata": {},
   "outputs": [],
   "source": [
    "# устанавливаем host, который будет отслеживать наши эксперименты\n",
    "mlflow.set_tracking_uri(f\"http://{TRACKING_SERVER_HOST}:{TRACKING_SERVER_PORT}\")\n",
    "mlflow.set_registry_uri(f\"http://{TRACKING_SERVER_HOST}:{TRACKING_SERVER_PORT}\") "
   ]
  },
  {
   "cell_type": "code",
   "execution_count": 4,
   "metadata": {},
   "outputs": [
    {
     "name": "stderr",
     "output_type": "stream",
     "text": [
      "/home/mle-user/mle_projects/.venv/lib/python3.10/site-packages/mlflow/models/signature.py:212: UserWarning: Hint: Inferred schema contains integer column(s). Integer columns in Python cannot represent missing values. If your input data contains missing values at inference time, it will be encoded as floats and will cause a schema enforcement error. The best way to avoid this problem is to infer the model schema based on a realistic data sample (training dataset) that includes missing values. Alternatively, you can declare integer columns as doubles (float64) whenever these columns may have missing values. See `Handling Integers With Missing Values <https://www.mlflow.org/docs/latest/models.html#handling-integers-with-missing-values>`_ for more details.\n",
      "  inputs = _infer_schema(model_input) if model_input is not None else None\n",
      "Registered model 'baseline' already exists. Creating a new version of this model...\n",
      "2025/03/12 17:32:45 INFO mlflow.tracking._model_registry.client: Waiting up to 60 seconds for model version to finish creation. Model name: baseline, version 3\n",
      "Created version '3' of model 'baseline'.\n"
     ]
    }
   ],
   "source": [
    "mlflow.set_experiment(EXPERIMENT_NAME)\n",
    "experiment_id = mlflow.get_experiment_by_name(EXPERIMENT_NAME).experiment_id\n",
    "with mlflow.start_run(run_name=f\"{RUN_NAME}_intersection_and_union\", experiment_id=experiment_id) as run:\n",
    "    run_id = run.info.run_id\n",
    "    with open('cv_results/cv_res.json', 'r') as fd:\n",
    "        cv_results = yaml.safe_load(fd)\n",
    "    model = joblib.load('models/fitted_model.pkl')\n",
    "    fit_params = model.get_params()\n",
    "    mlflow.log_params(fit_params)\n",
    "    mlflow.log_metrics(cv_results)\n",
    "    \n",
    "    data = pd.read_csv('data/initial_data.csv')\n",
    "    mlflow.log_artifacts('data')\n",
    "    X = data.drop(['price'], axis=1)\n",
    "    metadata = {\"model_type\": \"baseline\", 'structure': 'Catboost'}\n",
    "    train_data = X.head(5)\n",
    "    pred = model.predict(train_data)\n",
    "    signature = mlflow.models.infer_signature(train_data, pred)\n",
    "    input_example = train_data\n",
    "    pip_requirements = '/home/mle-user/mle_projects/yn/requirements.txt'\n",
    "    model_info = mlflow.catboost.log_model( \n",
    "\t\t    cb_model=model,\n",
    "            artifact_path=\"models\",\n",
    "            registered_model_name=REGISTRY_MODEL_NAME,\n",
    "            signature=signature,\n",
    "            input_example=input_example,\n",
    "            pip_requirements=pip_requirements,\n",
    "            metadata = metadata,\n",
    "            await_registration_for=60\n",
    "\t\t)\n",
    "    mlflow.end_run()\n",
    "    "
   ]
  }
 ],
 "metadata": {
  "kernelspec": {
   "display_name": ".venv",
   "language": "python",
   "name": "python3"
  },
  "language_info": {
   "codemirror_mode": {
    "name": "ipython",
    "version": 3
   },
   "file_extension": ".py",
   "mimetype": "text/x-python",
   "name": "python",
   "nbconvert_exporter": "python",
   "pygments_lexer": "ipython3",
   "version": "3.10.12"
  }
 },
 "nbformat": 4,
 "nbformat_minor": 2
}
